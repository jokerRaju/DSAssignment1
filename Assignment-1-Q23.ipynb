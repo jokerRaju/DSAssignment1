{
 "cells": [
  {
   "cell_type": "code",
   "execution_count": 5,
   "id": "718a8d8f",
   "metadata": {},
   "outputs": [],
   "source": [
    "from scipy import stats\n",
    "from scipy.stats import norm "
   ]
  },
  {
   "cell_type": "code",
   "execution_count": 8,
   "id": "253a7ba9",
   "metadata": {},
   "outputs": [
    {
     "data": {
      "text/plain": [
       "2.0638985616280205"
      ]
     },
     "execution_count": 8,
     "metadata": {},
     "output_type": "execute_result"
    }
   ],
   "source": [
    "# t scores of 95% confidence interval for sample size of 25 \n",
    "n=25\n",
    "a=(1+(0.95))/2\n",
    "df=n-1\n",
    "stats.t.ppf(a,df)"
   ]
  },
  {
   "cell_type": "code",
   "execution_count": 10,
   "id": "ab6d6dfc",
   "metadata": {},
   "outputs": [
    {
     "data": {
      "text/plain": [
       "2.1715446760080677"
      ]
     },
     "execution_count": 10,
     "metadata": {},
     "output_type": "execute_result"
    }
   ],
   "source": [
    "# t scores of 96% confidence interval for sample size of 25\n",
    "a=(1+(0.96))/2\n",
    "stats.t.ppf(a,df)"
   ]
  },
  {
   "cell_type": "code",
   "execution_count": 11,
   "id": "52ede0cf",
   "metadata": {},
   "outputs": [
    {
     "data": {
      "text/plain": [
       "2.796939504772804"
      ]
     },
     "execution_count": 11,
     "metadata": {},
     "output_type": "execute_result"
    }
   ],
   "source": [
    "# t scores of 99% confidence interval for sample size of 25\n",
    "a=(1+(0.99))/2\n",
    "stats.t.ppf(a,df)"
   ]
  },
  {
   "cell_type": "code",
   "execution_count": null,
   "id": "43690c7b",
   "metadata": {},
   "outputs": [],
   "source": []
  }
 ],
 "metadata": {
  "kernelspec": {
   "display_name": "Python 3 (ipykernel)",
   "language": "python",
   "name": "python3"
  },
  "language_info": {
   "codemirror_mode": {
    "name": "ipython",
    "version": 3
   },
   "file_extension": ".py",
   "mimetype": "text/x-python",
   "name": "python",
   "nbconvert_exporter": "python",
   "pygments_lexer": "ipython3",
   "version": "3.11.3"
  }
 },
 "nbformat": 4,
 "nbformat_minor": 5
}
